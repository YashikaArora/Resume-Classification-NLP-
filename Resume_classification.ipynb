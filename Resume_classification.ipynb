{
 "cells": [
  {
   "cell_type": "markdown",
   "source": [
    "# Resume Classification"
   ],
   "metadata": {}
  },
  {
   "cell_type": "code",
   "execution_count": 1,
   "source": [
    "import warnings\r\n",
    "warnings.filterwarnings('ignore')"
   ],
   "outputs": [],
   "metadata": {}
  },
  {
   "cell_type": "markdown",
   "source": [
    "###  Importing libraries"
   ],
   "metadata": {}
  },
  {
   "cell_type": "code",
   "execution_count": 2,
   "source": [
    "import pandas as pd\r\n",
    "import numpy as np\r\n",
    "import re\r\n",
    "import nltk\r\n",
    "import matplotlib.pyplot as plt\r\n",
    "import seaborn as sns\r\n",
    "%matplotlib inline\r\n",
    "from nltk.corpus import stopwords\r\n",
    "from nltk.stem.porter import PorterStemmer\r\n",
    "from sklearn.svm import SVC\r\n",
    "from sklearn.preprocessing import LabelEncoder\r\n",
    "from sklearn.metrics import confusion_matrix"
   ],
   "outputs": [],
   "metadata": {}
  },
  {
   "cell_type": "code",
   "execution_count": 3,
   "source": [
    "df = pd.read_csv(r\"C:\\Users\\yashika\\datasets_118409_284260_resume_dataset.csv\" ,encoding='utf-8')\r\n",
    "df.head()"
   ],
   "outputs": [
    {
     "output_type": "execute_result",
     "data": {
      "text/plain": [
       "       Category                                             Resume\n",
       "0  Data Science  Skills * Programming Languages: Python (pandas...\n",
       "1  Data Science  Education Details \\r\\nMay 2013 to May 2017 B.E...\n",
       "2  Data Science  Areas of Interest Deep Learning, Control Syste...\n",
       "3  Data Science  Skills â¢ R â¢ Python â¢ SAP HANA â¢ Table...\n",
       "4  Data Science  Education Details \\r\\n MCA   YMCAUST,  Faridab..."
      ],
      "text/html": [
       "<div>\n",
       "<style scoped>\n",
       "    .dataframe tbody tr th:only-of-type {\n",
       "        vertical-align: middle;\n",
       "    }\n",
       "\n",
       "    .dataframe tbody tr th {\n",
       "        vertical-align: top;\n",
       "    }\n",
       "\n",
       "    .dataframe thead th {\n",
       "        text-align: right;\n",
       "    }\n",
       "</style>\n",
       "<table border=\"1\" class=\"dataframe\">\n",
       "  <thead>\n",
       "    <tr style=\"text-align: right;\">\n",
       "      <th></th>\n",
       "      <th>Category</th>\n",
       "      <th>Resume</th>\n",
       "    </tr>\n",
       "  </thead>\n",
       "  <tbody>\n",
       "    <tr>\n",
       "      <th>0</th>\n",
       "      <td>Data Science</td>\n",
       "      <td>Skills * Programming Languages: Python (pandas...</td>\n",
       "    </tr>\n",
       "    <tr>\n",
       "      <th>1</th>\n",
       "      <td>Data Science</td>\n",
       "      <td>Education Details \\r\\nMay 2013 to May 2017 B.E...</td>\n",
       "    </tr>\n",
       "    <tr>\n",
       "      <th>2</th>\n",
       "      <td>Data Science</td>\n",
       "      <td>Areas of Interest Deep Learning, Control Syste...</td>\n",
       "    </tr>\n",
       "    <tr>\n",
       "      <th>3</th>\n",
       "      <td>Data Science</td>\n",
       "      <td>Skills â¢ R â¢ Python â¢ SAP HANA â¢ Table...</td>\n",
       "    </tr>\n",
       "    <tr>\n",
       "      <th>4</th>\n",
       "      <td>Data Science</td>\n",
       "      <td>Education Details \\r\\n MCA   YMCAUST,  Faridab...</td>\n",
       "    </tr>\n",
       "  </tbody>\n",
       "</table>\n",
       "</div>"
      ]
     },
     "metadata": {},
     "execution_count": 3
    }
   ],
   "metadata": {}
  },
  {
   "cell_type": "code",
   "execution_count": 4,
   "source": [
    "df.isnull().sum()"
   ],
   "outputs": [
    {
     "output_type": "execute_result",
     "data": {
      "text/plain": [
       "Category    0\n",
       "Resume      0\n",
       "dtype: int64"
      ]
     },
     "metadata": {},
     "execution_count": 4
    }
   ],
   "metadata": {}
  },
  {
   "cell_type": "code",
   "execution_count": 5,
   "source": [
    "print (\"Displaying the distinct categories of resume -\\n\")\r\n",
    "print (df['Category'].unique())"
   ],
   "outputs": [
    {
     "output_type": "stream",
     "name": "stdout",
     "text": [
      "Displaying the distinct categories of resume -\n",
      "\n",
      "['Data Science' 'HR' 'Advocate' 'Arts' 'Web Designing'\n",
      " 'Mechanical Engineer' 'Sales' 'Health and fitness' 'Civil Engineer'\n",
      " 'Java Developer' 'Business Analyst' 'SAP Developer' 'Automation Testing'\n",
      " 'Electrical Engineering' 'Operations Manager' 'Python Developer'\n",
      " 'DevOps Engineer' 'Network Security Engineer' 'PMO' 'Database' 'Hadoop'\n",
      " 'ETL Developer' 'DotNet Developer' 'Blockchain' 'Testing']\n"
     ]
    }
   ],
   "metadata": {}
  },
  {
   "cell_type": "code",
   "execution_count": 6,
   "source": [
    "print (\"Displaying the number of records belonging to distinct categories of resume -\\n\")\r\n",
    "print (df['Category'].value_counts())"
   ],
   "outputs": [
    {
     "output_type": "stream",
     "name": "stdout",
     "text": [
      "Displaying the number of records belonging to distinct categories of resume -\n",
      "\n",
      "Java Developer               14\n",
      "HR                           11\n",
      "Database                     11\n",
      "Data Science                 10\n",
      "Advocate                     10\n",
      "Testing                       7\n",
      "Automation Testing            7\n",
      "DotNet Developer              7\n",
      "DevOps Engineer               7\n",
      "Hadoop                        7\n",
      "SAP Developer                 6\n",
      "Health and fitness            6\n",
      "Business Analyst              6\n",
      "Python Developer              6\n",
      "Arts                          6\n",
      "Civil Engineer                6\n",
      "Network Security Engineer     5\n",
      "Electrical Engineering        5\n",
      "Blockchain                    5\n",
      "ETL Developer                 5\n",
      "Sales                         5\n",
      "Mechanical Engineer           5\n",
      "Web Designing                 5\n",
      "Operations Manager            4\n",
      "PMO                           3\n",
      "Name: Category, dtype: int64\n"
     ]
    }
   ],
   "metadata": {}
  },
  {
   "cell_type": "code",
   "execution_count": 7,
   "source": [
    "df['Category'].nunique()"
   ],
   "outputs": [
    {
     "output_type": "execute_result",
     "data": {
      "text/plain": [
       "25"
      ]
     },
     "metadata": {},
     "execution_count": 7
    }
   ],
   "metadata": {}
  },
  {
   "cell_type": "markdown",
   "source": [
    "### Visualisation of category"
   ],
   "metadata": {}
  },
  {
   "cell_type": "code",
   "execution_count": 8,
   "source": [
    "plt.figure(figsize=(15,10))\r\n",
    "plt.xticks(rotation=90)\r\n",
    "sns.countplot(x=\"Category\", data=df)"
   ],
   "outputs": [
    {
     "output_type": "execute_result",
     "data": {
      "text/plain": [
       "<matplotlib.axes._subplots.AxesSubplot at 0x221e6d97898>"
      ]
     },
     "metadata": {},
     "execution_count": 8
    },
    {
     "output_type": "display_data",
     "data": {
      "text/plain": [
       "<Figure size 1080x720 with 1 Axes>"
      ],
      "image/png": "[encoded data removed]"
     },
     "metadata": {
      "needs_background": "light"
     }
    }
   ],
   "metadata": {}
  },
  {
   "cell_type": "markdown",
   "source": [
    "### Label encoding"
   ],
   "metadata": {}
  },
  {
   "cell_type": "code",
   "execution_count": 9,
   "source": [
    "# Label encoding of the category column\r\n",
    "\r\n",
    "le = LabelEncoder()\r\n",
    "df[\"Category\"] = le.fit_transform(df[\"Category\"])\r\n",
    "\r\n",
    "df.head()"
   ],
   "outputs": [
    {
     "output_type": "execute_result",
     "data": {
      "text/plain": [
       "   Category                                             Resume\n",
       "0         6  Skills * Programming Languages: Python (pandas...\n",
       "1         6  Education Details \\r\\nMay 2013 to May 2017 B.E...\n",
       "2         6  Areas of Interest Deep Learning, Control Syste...\n",
       "3         6  Skills â¢ R â¢ Python â¢ SAP HANA â¢ Table...\n",
       "4         6  Education Details \\r\\n MCA   YMCAUST,  Faridab..."
      ],
      "text/html": [
       "<div>\n",
       "<style scoped>\n",
       "    .dataframe tbody tr th:only-of-type {\n",
       "        vertical-align: middle;\n",
       "    }\n",
       "\n",
       "    .dataframe tbody tr th {\n",
       "        vertical-align: top;\n",
       "    }\n",
       "\n",
       "    .dataframe thead th {\n",
       "        text-align: right;\n",
       "    }\n",
       "</style>\n",
       "<table border=\"1\" class=\"dataframe\">\n",
       "  <thead>\n",
       "    <tr style=\"text-align: right;\">\n",
       "      <th></th>\n",
       "      <th>Category</th>\n",
       "      <th>Resume</th>\n",
       "    </tr>\n",
       "  </thead>\n",
       "  <tbody>\n",
       "    <tr>\n",
       "      <th>0</th>\n",
       "      <td>6</td>\n",
       "      <td>Skills * Programming Languages: Python (pandas...</td>\n",
       "    </tr>\n",
       "    <tr>\n",
       "      <th>1</th>\n",
       "      <td>6</td>\n",
       "      <td>Education Details \\r\\nMay 2013 to May 2017 B.E...</td>\n",
       "    </tr>\n",
       "    <tr>\n",
       "      <th>2</th>\n",
       "      <td>6</td>\n",
       "      <td>Areas of Interest Deep Learning, Control Syste...</td>\n",
       "    </tr>\n",
       "    <tr>\n",
       "      <th>3</th>\n",
       "      <td>6</td>\n",
       "      <td>Skills â¢ R â¢ Python â¢ SAP HANA â¢ Table...</td>\n",
       "    </tr>\n",
       "    <tr>\n",
       "      <th>4</th>\n",
       "      <td>6</td>\n",
       "      <td>Education Details \\r\\n MCA   YMCAUST,  Faridab...</td>\n",
       "    </tr>\n",
       "  </tbody>\n",
       "</table>\n",
       "</div>"
      ]
     },
     "metadata": {},
     "execution_count": 9
    }
   ],
   "metadata": {}
  },
  {
   "cell_type": "markdown",
   "source": [
    "### Text preprocessing\n",
    "\n",
    "\n",
    "- Removing punctuations\n",
    "- Removing stopwords\n",
    "- Porter Stemmer"
   ],
   "metadata": {}
  },
  {
   "cell_type": "code",
   "execution_count": 10,
   "source": [
    "ps = PorterStemmer()\r\n",
    "stopwords = nltk.corpus.stopwords.words('english')\r\n",
    "def get_clean(x):\r\n",
    "    x = re.sub('[^a-zA-Z]', ' ', x).lower().split()\r\n",
    "    x = ' '.join([ps.stem(word) for word in x if word not in stopwords])\r\n",
    "    return x"
   ],
   "outputs": [],
   "metadata": {}
  },
  {
   "cell_type": "code",
   "execution_count": 11,
   "source": [
    "df['Resume'] = df['Resume'].apply(lambda x : get_clean(x)) "
   ],
   "outputs": [],
   "metadata": {}
  },
  {
   "cell_type": "code",
   "execution_count": 12,
   "source": [
    "df.head()"
   ],
   "outputs": [
    {
     "output_type": "execute_result",
     "data": {
      "text/plain": [
       "   Category                                             Resume\n",
       "0         6  skill program languag python panda numpi scipi...\n",
       "1         6  educ detail may may b e uit rgpvdata scientist...\n",
       "2         6  area interest deep learn control system design...\n",
       "3         6  skill r python sap hana tableau sap hana sql s...\n",
       "4         6  educ detail mca ymcaust faridabad haryanadata ..."
      ],
      "text/html": [
       "<div>\n",
       "<style scoped>\n",
       "    .dataframe tbody tr th:only-of-type {\n",
       "        vertical-align: middle;\n",
       "    }\n",
       "\n",
       "    .dataframe tbody tr th {\n",
       "        vertical-align: top;\n",
       "    }\n",
       "\n",
       "    .dataframe thead th {\n",
       "        text-align: right;\n",
       "    }\n",
       "</style>\n",
       "<table border=\"1\" class=\"dataframe\">\n",
       "  <thead>\n",
       "    <tr style=\"text-align: right;\">\n",
       "      <th></th>\n",
       "      <th>Category</th>\n",
       "      <th>Resume</th>\n",
       "    </tr>\n",
       "  </thead>\n",
       "  <tbody>\n",
       "    <tr>\n",
       "      <th>0</th>\n",
       "      <td>6</td>\n",
       "      <td>skill program languag python panda numpi scipi...</td>\n",
       "    </tr>\n",
       "    <tr>\n",
       "      <th>1</th>\n",
       "      <td>6</td>\n",
       "      <td>educ detail may may b e uit rgpvdata scientist...</td>\n",
       "    </tr>\n",
       "    <tr>\n",
       "      <th>2</th>\n",
       "      <td>6</td>\n",
       "      <td>area interest deep learn control system design...</td>\n",
       "    </tr>\n",
       "    <tr>\n",
       "      <th>3</th>\n",
       "      <td>6</td>\n",
       "      <td>skill r python sap hana tableau sap hana sql s...</td>\n",
       "    </tr>\n",
       "    <tr>\n",
       "      <th>4</th>\n",
       "      <td>6</td>\n",
       "      <td>educ detail mca ymcaust faridabad haryanadata ...</td>\n",
       "    </tr>\n",
       "  </tbody>\n",
       "</table>\n",
       "</div>"
      ]
     },
     "metadata": {},
     "execution_count": 12
    }
   ],
   "metadata": {}
  },
  {
   "cell_type": "markdown",
   "source": [
    "### TF-IDF Vectorizer"
   ],
   "metadata": {}
  },
  {
   "cell_type": "code",
   "execution_count": 13,
   "source": [
    "from sklearn.feature_extraction.text import TfidfVectorizer\r\n",
    "tfidf = TfidfVectorizer(max_features = 3000,ngram_range = (1,3))\r\n",
    "X = tfidf.fit_transform(df['Resume'])\r\n",
    "y = df['Category']"
   ],
   "outputs": [],
   "metadata": {}
  },
  {
   "cell_type": "code",
   "execution_count": 14,
   "source": [
    "print(tfidf.get_feature_names())"
   ],
   "outputs": [
    {
     "output_type": "stream",
     "name": "stdout",
     "text": [
      "['abap', 'abil', 'abil work', 'abl', 'abstract', 'academ', 'academi', 'accentur', 'accept', 'accept test', 'access', 'accomplish', 'accord', 'account', 'accur', 'achiev', 'achiev target', 'acquir', 'across', 'act', 'action', 'activ', 'activ involv', 'activ monitor', 'activ particip', 'activ plc', 'activ plc panel', 'activ project', 'actual', 'actuat', 'ad', 'ad hoc', 'adapt', 'add', 'addit', 'address', 'adher', 'admin', 'administr', 'administr support', 'administr task', 'advanc', 'advertis', 'advisor', 'aegi', 'aegi school', 'aegi school data', 'agent', 'agil', 'agil methodolog', 'agil model', 'agil model methodolog', 'ai', 'aim', 'air', 'ajax', 'ajax exprienc', 'ajax java', 'ajax java script', 'ajax jqueri', 'al', 'alert', 'algorithm', 'alloc', 'allow', 'along', 'also', 'also work', 'altern', 'alway', 'amazon', 'american', 'among', 'amravati', 'amravati maharashtra', 'amravati univers', 'analys', 'analysi', 'analyst', 'analystbusi', 'analyt', 'analyt skill', 'analyz', 'analyz user', 'analyz user requir', 'android', 'angular', 'angular js', 'angularj', 'annual', 'anoth', 'answer', 'ap', 'apach', 'apach hadoop', 'apach tomcat', 'api', 'app', 'appli', 'applic', 'applic develop', 'applic server', 'applic support', 'applic use', 'apprais', 'appreci', 'approach', 'appropri', 'approv', 'april', 'architect', 'architectur', 'archiv', 'area', 'around', 'arrang', 'arriv', 'art', 'asa', 'asa firewal', 'asia', 'asm', 'asp', 'asp exprienc', 'asp exprienc month', 'asp net', 'asp net mvc', 'asp net net', 'aspect', 'assembl', 'assess', 'asset', 'assign', 'assist', 'associ', 'assur', 'atharva', 'atharva colleg', 'atharva colleg engin', 'atm', 'ato', 'attack', 'attend', 'attend weekli', 'attend weekli project', 'attitud', 'attract', 'attribut', 'audienc', 'audit', 'aug', 'august', 'authent', 'author', 'auto', 'autocad', 'autom', 'autom framework', 'autom pvt', 'autom pvt ltd', 'autom script', 'autom test', 'autom test script', 'autom tool', 'autosi', 'avail', 'aw', 'awar', 'award', 'awr', 'azur', 'ba', 'bachelor', 'bachelor engin', 'bachelor engin comput', 'bachelor engin inform', 'bachelor scienc', 'back', 'back end', 'back end like', 'backend', 'background', 'backup', 'backup cisco', 'backup cisco router', 'backup databas', 'backup recoveri', 'backup restor', 'backup schedul', 'backup schedul upgrad', 'backup use', 'bajaj', 'balanc', 'bandra', 'bangalor', 'bangalor environ', 'bangalor environ sap', 'bank', 'bank domain', 'bar', 'barclay', 'base', 'base applic', 'base firewal', 'base network', 'base network instal', 'basi', 'basic', 'batch', 'benefit', 'bengaluru', 'bengaluru karnataka', 'best', 'best possibl', 'best possibl way', 'better', 'bex', 'bex queri', 'bharat', 'bhopal', 'bi', 'big', 'big data', 'bill', 'bitbucket', 'bitcoin', 'black', 'black box', 'black box test', 'block', 'blockchain', 'bni', 'bni mellon', 'bni mellon intern', 'bo', 'bo develop', 'board', 'board januari', 'bod', 'bodi', 'bom', 'bombay', 'bond', 'book', 'bootstrap', 'bootstrap exprienc', 'bootstrap javascript', 'bootstrap php', 'bootstrap php jqueri', 'bot', 'box', 'box test', 'branch', 'brand', 'brd', 'breaker', 'brief', 'bring', 'british', 'british council', 'british council descript', 'bsc', 'bu', 'budget', 'bug', 'bug fix', 'build', 'build deploy', 'builder', 'built', 'busi', 'busi administr', 'busi analyst', 'busi develop', 'busi function', 'busi intellig', 'busi process', 'busi requir', 'busi requir document', 'busi user', 'bw', 'ca', 'cabinet', 'cabl', 'cad', 'calcul', 'calcul view', 'calibr', 'california', 'call', 'capabl', 'capac', 'capgemini', 'capgemini india', 'capgemini india pvt', 'capit', 'captur', 'car', 'card', 'care', 'career', 'carri', 'case', 'case execut', 'case execut test', 'cash', 'categori', 'catia', 'caus', 'cb', 'ccu', 'center', 'centr', 'central', 'certif', 'certifi', 'chain', 'chain manag', 'challeng', 'chang', 'chang manag', 'chang propos', 'chang request', 'channel', 'chart', 'chat', 'check', 'checkpoint', 'chennai', 'chennai tamil', 'chennai tamil nadu', 'chinchwad', 'ci', 'circuit', 'cisco', 'cisco asa', 'cisco router', 'cisco router switch', 'citi', 'civil', 'civil engin', 'civil engin compani', 'claim', 'clarif', 'class', 'classif', 'classifi', 'clear', 'clearanc', 'client', 'client interact', 'client project', 'client qatar', 'client requir', 'client side', 'client understand', 'client understand requir', 'clinic', 'clone', 'close', 'cloud', 'cloud base', 'cloudera', 'club', 'cluster', 'cmc', 'cmu', 'cnc', 'co', 'co coordin', 'co coordin system', 'co ordin', 'coach', 'code', 'coe', 'coil', 'cold', 'collabor', 'collect', 'collect databas', 'collect databas schema', 'colleg', 'colleg engin', 'colleg engin januari', 'colleg januari', 'columbia', 'column', 'com', 'com descript', 'com www', 'come', 'command', 'comment', 'commerc', 'commerci', 'commiss', 'commun', 'commun client', 'commun skill', 'compani', 'compani british', 'compani british council', 'compani capgemini', 'compani capgemini head', 'compani capgemini india', 'compani compani', 'compani descript', 'compani detail', 'compani detail compani', 'compani synechron', 'compani synechron technolog', 'compani tata', 'compani tata consult', 'compani tech', 'compani tech mahindra', 'compani tieto', 'compani wipro', 'compani wipro technolog', 'compar', 'comparison', 'compens', 'compet', 'competit', 'compil', 'complaint', 'complet', 'complet day', 'complet intern', 'complet project', 'complex', 'compli', 'complianc', 'complianc relat', 'compon', 'compris', 'comput', 'comput engin', 'comput scienc', 'comput scienc engin', 'comput scienc pune', 'comput skill', 'comput technolog', 'comput vision', 'concept', 'concern', 'condit', 'conduct', 'conduct research', 'conduct research develop', 'conduct train', 'confer', 'confer call', 'confid', 'configur', 'configur administr', 'configur administr window', 'configur file', 'configur file instal', 'configur manag', 'configur network', 'configur troubleshoot', 'connect', 'consign', 'consist', 'consolid', 'constraint', 'construct', 'consult', 'consult month', 'consult servic', 'consult servic descript', 'consum', 'contact', 'content', 'context', 'continu', 'continu integr', 'contract', 'contractor', 'contribut', 'control', 'control panel', 'convers', 'convert', 'coordin', 'coordin develop', 'coordin system', 'core', 'core java', 'corpor', 'correct', 'correspond', 'cost', 'council', 'council descript', 'counsel', 'countri', 'cours', 'court', 'cover', 'coverag', 'crawl', 'creat', 'creat databas', 'creat hive', 'creat maintain', 'creat manag', 'creat new', 'creat new system', 'creat project', 'creat project plan', 'creat user', 'creation', 'creation test', 'credit', 'cricket', 'crimin', 'critic', 'critic issu', 'crm', 'cross', 'crystal', 'crystal report', 'cse', 'css', 'css bootstrap', 'css bootstrap javascript', 'css bootstrap php', 'css exprienc', 'css exprienc less', 'css javascript', 'css javascript jqueri', 'css jqueri', 'cultur', 'current', 'current work', 'custom', 'custom queri', 'custom requir', 'custom servic', 'cv', 'cycl', 'daili', 'daili weekli', 'dashboard', 'data', 'data analyt', 'data base', 'data center', 'data collect', 'data differ', 'data driven', 'data file', 'data hadoop', 'data model', 'data rdbm', 'data scienc', 'data set', 'data sourc', 'data use', 'data warehous', 'databas', 'databas administr', 'databas backup', 'databas exprienc', 'databas exprienc month', 'databas manag', 'databas mirror', 'databas mysql', 'databas oracl', 'databas refresh', 'databas schema', 'databas schema design', 'databas server', 'databas sql', 'databas sql server', 'databas support', 'databas team', 'databas test', 'databas use', 'databas use sql', 'databas websit', 'databas websit necessari', 'dataguard', 'datapump', 'dataset', 'date', 'date project', 'day', 'day activ', 'day day', 'day day activ', 'day workshop', 'db', 'dba', 'dbm', 'dc', 'deadlin', 'deal', 'debug', 'dec', 'decis', 'decis make', 'decis tree', 'declar', 'dedic', 'deep', 'deep learn', 'defect', 'defin', 'degre', 'delet', 'deliv', 'deliver', 'deliveri', 'deliveri manag', 'dell', 'delta', 'demand', 'depart', 'depend', 'deploy', 'deploy product', 'deriv', 'descript', 'descript client', 'descript client interact', 'descript compani', 'descript creat', 'descript current', 'descript current work', 'descript develop', 'descript durat', 'descript environ', 'descript environ asp', 'descript environ vb', 'descript instal', 'descript job', 'descript job respons', 'descript key', 'descript mumbai', 'descript part', 'descript project', 'descript project descript', 'descript project name', 'descript pune', 'descript respons', 'descript role', 'descript role civil', 'descript softwar', 'descript team', 'descript team size', 'descript work', 'design', 'design code', 'design creat', 'design creat databas', 'design develop', 'design develop complet', 'design develop modern', 'design document', 'design engin', 'design implement', 'design like', 'design like screen', 'design studio', 'desk', 'desktop', 'detail', 'detail august', 'detail autocad', 'detail bachelor', 'detail compani', 'detail compani descript', 'detail compani detail', 'detail compani tata', 'detail compani tech', 'detail data', 'detail databas', 'detail databas exprienc', 'detail exprienc', 'detail exprienc month', 'detail januari', 'detail januari bachelor', 'detail januari januari', 'detail java', 'detail juli', 'detail june', 'detail june june', 'detail may', 'detail mba', 'detail ms', 'detail project', 'detail sap', 'detect', 'determin', 'dev', 'develop', 'develop activ', 'develop autom', 'develop creat', 'develop data', 'develop descript', 'develop descript project', 'develop design', 'develop environ', 'develop hana', 'develop life', 'develop life cycl', 'develop maintain', 'develop map', 'develop new', 'develop project', 'develop project name', 'develop synopsi', 'develop team', 'develop test', 'develop tool', 'develop variou', 'develop web', 'developerdot', 'developerdot net', 'developerjava', 'developerjava develop', 'developerskil', 'developerskil detail', 'devic', 'devic cisco', 'devic cisco router', 'devop', 'dhcp', 'diagnost', 'diagram', 'dicom', 'differ', 'differ categori', 'differ type', 'difficult', 'digit', 'dimens', 'diploma', 'diploma comput', 'diploma comput technolog', 'diploma industri', 'direct', 'directli', 'director', 'directori', 'disabl', 'disabl grey', 'disciplin', 'discrep', 'discuss', 'disk', 'disk space', 'disk space etc', 'dispatch', 'display', 'distribut', 'district', 'divers', 'django', 'dn', 'document', 'document develop', 'document develop activ', 'document develop project', 'document exprienc', 'document exprienc month', 'domain', 'done', 'dossier', 'dot', 'dot net', 'dot net develop', 'download', 'downtim', 'dr', 'dr activ', 'draft', 'draw', 'drill', 'drive', 'driven', 'driven develop', 'driver', 'dubai', 'due', 'durat', 'durat month', 'duti', 'duti respons', 'duti respons assign', 'dynam', 'earth', 'easi', 'easili', 'ec', 'eclips', 'ecosystem', 'edit', 'educ', 'educ detail', 'educ detail august', 'educ detail bachelor', 'educ detail januari', 'educ detail juli', 'educ detail june', 'educ detail may', 'ee', 'ee exprienc', 'effect', 'effici', 'effort', 'effort estim', 'elast', 'electr', 'electr design', 'electr engin', 'electron', 'electron commun', 'electron engin', 'elimin', 'email', 'embed', 'emerg', 'employ', 'employe', 'enabl', 'end', 'end client', 'end end', 'end user', 'energi', 'engag', 'engg', 'engin', 'engin compani', 'engin comput', 'engin inform', 'engin inform technolog', 'engin januari', 'engin mumbai', 'engin mumbai maharashtra', 'engin pune', 'engin pune maharashtra', 'engin pvt', 'engin pvt ltd', 'engin role', 'engin work', 'engineerskil', 'engineerskil detail', 'english', 'english hindi', 'english hindi marathi', 'enhanc', 'enquiri', 'ensur', 'ensur complianc', 'ensur project', 'ensur qualiti', 'ensur qualiti check', 'ensur smooth', 'ensur time', 'enterpris', 'enthusiast', 'entir', 'entir applic', 'entir applic achiev', 'entiti', 'entiti framework', 'entri', 'environ', 'environ asp', 'environ asp net', 'environ informatica', 'environ informatica power', 'environ java', 'environ perform', 'environ sap', 'environ sap bo', 'environ sql', 'environ sql server', 'environ vb', 'environ visual', 'environ visual studio', 'environ window', 'epk', 'equip', 'erp', 'erp system', 'error', 'escal', 'establish', 'estat', 'estim', 'etc', 'ethereum', 'ethic', 'etl', 'etl develop', 'evalu', 'event', 'everi', 'examin', 'exceed', 'excel', 'excel exprienc', 'excel exprienc month', 'exchang', 'execut', 'execut test', 'execut test case', 'exist', 'exist applic', 'expens', 'experi', 'experi compani', 'experi year', 'experienc', 'expert', 'expertis', 'explor', 'export', 'export data', 'export import', 'exposur', 'express', 'exprienc', 'exprienc less', 'exprienc less year', 'exprienc month', 'exprienc month asp', 'exprienc month css', 'exprienc month databas', 'exprienc month exprienc', 'exprienc month hadoop', 'exprienc month html', 'exprienc month integr', 'exprienc month java', 'exprienc month javascript', 'exprienc month microsoft', 'exprienc month ms', 'exprienc month mysql', 'exprienc month oracl', 'exprienc month python', 'exprienc month sale', 'exprienc month sap', 'exprienc month sql', 'exprienc monthscompani', 'exprienc monthscompani detail', 'extens', 'extern', 'extract', 'extract transform', 'extract transform load', 'fabric', 'face', 'facil', 'facilit', 'fact', 'factor', 'factori', 'failov', 'failur', 'famili', 'faster', 'fat', 'fat document', 'fat fat', 'fd', 'feasibl', 'featur', 'feb', 'februari', 'fee', 'feed', 'feedback', 'fetch', 'fetch data', 'field', 'field disabl', 'field disabl grey', 'file', 'fill', 'filter', 'final', 'final year', 'financ', 'financi', 'financi servic', 'find', 'fine', 'firewal', 'firewal exprienc', 'firm', 'first', 'fit', 'fit club', 'fit club descript', 'fit goal', 'five', 'fix', 'flask', 'flat', 'flat file', 'flexibl', 'floor', 'flow', 'flume', 'focus', 'folder', 'follow', 'food', 'forc', 'forecast', 'form', 'form design', 'form design appli', 'formal', 'format', 'forum', 'forward', 'foundat', 'four', 'frame', 'frame made', 'frame made requir', 'framework', 'framework asp', 'framework asp net', 'fraud', 'free', 'freight', 'freight forward', 'friendli', 'front', 'front end', 'frontend', 'fruit', 'ftp', 'full', 'function', 'function requir', 'function technic', 'function test', 'fund', 'futur', 'ga', 'gap', 'gap analysi', 'gate', 'gateway', 'gather', 'gather requir', 'ge', 'gener', 'gener report', 'get', 'git', 'git bitbucket', 'github', 'give', 'given', 'given time', 'given time frame', 'global', 'global servic', 'global test', 'global test manag', 'globe', 'go', 'go live', 'goal', 'gold', 'good', 'good commun', 'good commun skill', 'good interperson', 'good knowledg', 'good understand', 'goqii', 'got', 'govern', 'govt', 'graduat', 'graduat diploma', 'graduat diploma industri', 'grant', 'graphic', 'graphic project', 'graphic project photoshop', 'grey', 'grid', 'group', 'group descript', 'group polici', 'growth', 'guard', 'guid', 'guidanc', 'gym', 'hadoop', 'hadoop develop', 'hadoop ecosystem', 'hadoop hdf', 'hana', 'hana view', 'hand', 'hand experi', 'handl', 'handl custom', 'handl project', 'handl queri', 'hard', 'hard work', 'hardwar', 'hardwork', 'hbase', 'hdf', 'hdf hive', 'head', 'head offic', 'health', 'health check', 'health safeti', 'healthcar', 'help', 'hibern', 'high', 'high avail', 'high court', 'high level', 'high school', 'higher', 'higher secondari', 'highlight', 'hindi', 'hindi marathi', 'hire', 'histori', 'hive', 'hive queri', 'hive sqoop', 'hive tabl', 'hmi', 'hoc', 'hoc manual', 'hoc manual test', 'hold', 'hold compani', 'holder', 'home', 'honeywel', 'honeywel korea', 'hospit', 'hospit manag', 'host', 'hot', 'hotel', 'hour', 'hous', 'hp', 'hpm', 'hr', 'hsbc', 'hsc', 'hsc maharashtra', 'ht', 'ht lt', 'html', 'html css', 'html css bootstrap', 'html css javascript', 'html css jqueri', 'html exprienc', 'html exprienc less', 'html exprienc month', 'html json', 'http', 'human', 'hvac', 'hyderabad', 'hyderabad telangana', 'hydraul', 'ibm', 'id', 'ide', 'idea', 'identif', 'identifi', 'idt', 'iec', 'ii', 'iit', 'iit bombay', 'imag', 'impact', 'impala', 'implement', 'implement configur', 'implement maintain', 'implement maintain backup', 'implement test', 'import', 'import export', 'improv', 'improv enhanc', 'improv perform', 'inc', 'incid', 'incid manag', 'includ', 'incom', 'increas', 'increment', 'index', 'india', 'india descript', 'india privat', 'india privat limit', 'india pvt', 'india pvt ltd', 'india sri', 'india sri lanka', 'indian', 'individu', 'indor', 'industri', 'industri autom', 'industri train', 'inform', 'inform technolog', 'informatica', 'informatica power', 'informatica power center', 'infotech', 'infrastructur', 'initi', 'innov', 'input', 'insight', 'inspect', 'inspect test', 'instal', 'instal configur', 'instal configur administr', 'instal upgrad', 'instanc', 'institut', 'institut engin', 'institut technolog', 'instruct', 'instrument', 'insul', 'insur', 'integr', 'integr exprienc', 'integr test', 'intellig', 'intellimatch', 'inter', 'interact', 'interact client', 'interest', 'interfac', 'interior', 'intern', 'intern audit', 'intern descript', 'intern extern', 'intern oper', 'intern oper india', 'intern test', 'internet', 'internship', 'interperson', 'interpret', 'interview', 'introduc', 'inventori', 'inventori manag', 'invest', 'invest bank', 'investig', 'invoic', 'involv', 'involv creat', 'involv develop', 'io', 'ionic', 'iot', 'ip', 'ipsec', 'ir', 'ir test', 'iso', 'issu', 'issu provid', 'issu work', 'item', 'itil', 'jan', 'januari', 'januari amravati', 'januari amravati maharashtra', 'januari bachelor', 'januari bachelor engin', 'januari comput', 'januari diploma', 'januari hsc', 'januari januari', 'januari januari bachelor', 'januari maharashtra', 'januari maharashtra state', 'januari master', 'januari mumbai', 'januari mumbai maharashtra', 'januari sc', 'januari ssc', 'januari ssc maharashtra', 'januari tech', 'java', 'java develop', 'java ee', 'java exprienc', 'java exprienc less', 'java exprienc month', 'java jsp', 'java jsp servlet', 'java program', 'java script', 'java script databas', 'java servlet', 'java servlet jsp', 'java spring', 'java web', 'javascript', 'javascript exprienc', 'javascript exprienc less', 'javascript exprienc month', 'javascript html', 'javascript jqueri', 'javascript jqueri ajax', 'javascript jqueri databas', 'jdbc', 'jenkin', 'jio', 'jira', 'job', 'job profil', 'job respons', 'join', 'jqueri', 'jqueri ajax', 'jqueri ajax java', 'jqueri databas', 'jqueri databas sql', 'jqueri exprienc', 'jr', 'jr colleg', 'js', 'json', 'jsp', 'jsp javascript', 'jsp servlet', 'juli', 'juli june', 'june', 'june bachelor', 'june june', 'june may', 'junior', 'junior colleg', 'junior colleg januari', 'junip', 'karat', 'karnataka', 'keep', 'keep track', 'kerala', 'key', 'key contribut', 'key respons', 'key result', 'key result area', 'key role', 'key skill', 'knowledg', 'known', 'korea', 'kpi', 'labour', 'lake', 'lan', 'land', 'languag', 'languag java', 'languag known', 'languag python', 'lanka', 'larg', 'largest', 'latest', 'law', 'layer', 'layer data', 'layer html', 'layer html css', 'layout', 'layout draw', 'le', 'lead', 'lead process', 'lead team', 'leader', 'leadership', 'learn', 'learn data', 'learn data scienc', 'learn deep', 'learn deep learn', 'learn exprienc', 'learn exprienc less', 'learn new', 'learner', 'leav', 'legal', 'less', 'less year', 'less year month', 'less year monthscompani', 'level', 'level qualiti', 'liais', 'librari', 'licens', 'life', 'life cycl', 'lifecycl', 'like', 'limit', 'limit descript', 'line', 'linear', 'link', 'linux', 'linux ubuntu', 'linux window', 'list', 'listen', 'live', 'llb', 'llc', 'llp', 'lng', 'load', 'load data', 'loan', 'local', 'locat', 'log', 'log file', 'log ship', 'logic', 'login', 'logist', 'long', 'look', 'loop', 'lt', 'ltd', 'ltd bangalor', 'ltd descript', 'ltd descript client', 'ltd descript compani', 'ltd descript key', 'ltd descript project', 'ltd descript pune', 'ltd descript respons', 'ltd descript work', 'ltd pune', 'ltdskill', 'ltdskill detail', 'ltdskill detail compani', 'mac', 'machin', 'machin learn', 'machin learn deep', 'machin learn exprienc', 'made', 'made databas', 'made databas constraint', 'made mock', 'made mock websit', 'made requir', 'made requir graphic', 'madhya', 'madhya pradesh', 'magazin', 'maharashtra', 'maharashtra amravati', 'maharashtra amravati univers', 'maharashtra board', 'maharashtra colleg', 'maharashtra maharashtra', 'maharashtra maharashtra state', 'maharashtra mumbai', 'maharashtra mumbai univers', 'maharashtra nagpur', 'maharashtra nagpur univers', 'maharashtra pune', 'maharashtra pune univers', 'maharashtra savitribai', 'maharashtra savitribai phule', 'maharashtra st', 'maharashtra state', 'maharashtra state board', 'maharashtra univers', 'maharashtra univers mumbai', 'mahindra', 'mahindra descript', 'mahindra pvt', 'mahindra pvt ltd', 'mail', 'main', 'maintain', 'maintain backup', 'maintain daili', 'maintain databas', 'maintain record', 'mainten', 'mainten plan', 'major', 'make', 'make sure', 'man', 'manag', 'manag applic', 'manag budget', 'manag busi', 'manag chang', 'manag commun', 'manag compani', 'manag creat', 'manag end', 'manag end end', 'manag exprienc', 'manag oper', 'manag perform', 'manag process', 'manag product', 'manag project', 'manag skill', 'manag staff', 'manag system', 'manag team', 'manag test', 'manag use', 'manag user', 'managerskil', 'managerskil detail', 'manner', 'manual', 'manual autom', 'manual autom test', 'manual test', 'manufactur', 'map', 'map reduc', 'map use', 'mapreduc', 'mar', 'marathi', 'march', 'market', 'marshal', 'master', 'materi', 'matlab', 'matplotlib', 'matrix', 'matter', 'maven', 'maxgen', 'maxim', 'may', 'mba', 'mc', 'mcc', 'mean', 'measur', 'mechan', 'mechan engin', 'media', 'medic', 'medicin', 'meet', 'meet client', 'mellon', 'mellon intern', 'mellon intern oper', 'member', 'mention', 'mentor', 'merchant', 'messag', 'met', 'method', 'methodolog', 'metric', 'mi', 'mi report', 'micro', 'microsoft', 'microsoft offic', 'midc', 'middlewar', 'migrat', 'mill', 'million', 'minim', 'mirror', 'mitig', 'mm', 'mobil', 'mock', 'mode', 'model', 'model methodolog', 'model train', 'modern', 'modif', 'modifi', 'modul', 'money', 'mongodb', 'monitor', 'monitor control', 'monitor troubleshoot', 'month', 'month asp', 'month asp net', 'month cisco', 'month css', 'month css exprienc', 'month data', 'month databas', 'month databas exprienc', 'month excel', 'month exprienc', 'month exprienc less', 'month exprienc month', 'month hadoop', 'month html', 'month html exprienc', 'month integr', 'month integr exprienc', 'month java', 'month java exprienc', 'month javascript', 'month javascript exprienc', 'month jqueri', 'month jqueri exprienc', 'month machin', 'month machin learn', 'month microsoft', 'month ms', 'month ms offic', 'month ms sql', 'month mysql', 'month mysql exprienc', 'month oracl', 'month oracl exprienc', 'month project', 'month python', 'month python exprienc', 'month sale', 'month sale exprienc', 'month sap', 'month spring', 'month sql', 'month sql exprienc', 'monthli', 'monthli basi', 'monthli report', 'monthscompani', 'monthscompani detail', 'monthscompani detail compani', 'motiv', 'motor', 'move', 'move data', 'movex', 'movex erp', 'mr', 'ms', 'ms excel', 'ms offic', 'ms offic exprienc', 'ms sql', 'ms sql server', 'mssql', 'multi', 'multimedia', 'multin', 'multipl', 'mumbai', 'mumbai compani', 'mumbai maharashtra', 'mumbai maharashtra mumbai', 'mumbai maharashtra univers', 'mumbai univers', 'mumbai univers januari', 'music', 'mvc', 'mvc databas', 'mvc exprienc', 'mw', 'mysql', 'mysql databas', 'mysql exprienc', 'mysql exprienc month', 'mysql oracl', 'nadu', 'nagpur', 'nagpur maharashtra', 'nagpur maharashtra maharashtra', 'nagpur maharashtra nagpur', 'nagpur univers', 'name', 'nand', 'nashik', 'nashik maharashtra', 'nat', 'nation', 'natur', 'natur languag', 'navig', 'nd', 'nd level', 'nd level qualiti', 'necessari', 'necessari project', 'necessari project undertaken', 'need', 'negoti', 'negoti vendor', 'nendrasi', 'nendrasi technolog', 'nendrasi technolog pvt', 'ner', 'nestl', 'net', 'net develop', 'net developerdot', 'net developerdot net', 'net exprienc', 'net exprienc month', 'net framework', 'net framework asp', 'net javascript', 'net javascript jqueri', 'net mvc', 'net mvc databas', 'net net', 'network', 'network administr', 'network devic', 'network devic cisco', 'network secur', 'neural', 'neural network', 'new', 'new system', 'new system databas', 'new york', 'news', 'nlp', 'no', 'node', 'node js', 'non', 'non conform', 'norm', 'normal', 'note', 'notic', 'notif', 'nov', 'number', 'numpi', 'nutrit', 'ny', 'object', 'obtain', 'oct', 'octob', 'offer', 'offic', 'offic descript', 'offic exprienc', 'offic word', 'offshor', 'oil', 'old', 'one', 'onlin', 'onshor', 'onsit', 'oozi', 'op', 'open', 'oper', 'oper compani', 'oper india', 'oper india pvt', 'oper manag', 'oper report', 'oper system', 'oper system window', 'oper team', 'opportun', 'optim', 'optim perform', 'option', 'ora', 'oracl', 'oracl databas', 'oracl exprienc', 'oracl exprienc month', 'oracl pl', 'oracl pl sql', 'oracl sql', 'oracl unix', 'order', 'ordin', 'organ', 'organis', 'orient', 'os', 'os window', 'oss', 'other', 'outstand', 'overal', 'overse', 'owner', 'pac', 'pack', 'packag', 'page', 'paint', 'pan', 'panda', 'panel', 'panel monitor', 'paper', 'paramet', 'part', 'parti', 'particip', 'particular', 'partit', 'partner', 'partnership', 'pass', 'password', 'past', 'patch', 'patient', 'patil', 'pattern', 'pay', 'payment', 'payrol', 'pcc', 'peer', 'peopl', 'per', 'per busi', 'per busi requir', 'per client', 'per client requir', 'per custom', 'per requir', 'per user', 'perform', 'perform issu', 'perform manag', 'perform monitor', 'perform nd', 'perform nd level', 'perform relat', 'perform relat duti', 'perform tune', 'perform unit', 'perform unit test', 'period', 'perman', 'permiss', 'person', 'person skill', 'pharmaceut', 'phase', 'phone', 'photoshop', 'photoshop exprienc', 'photoshop exprienc month', 'php', 'php jqueri', 'php jqueri ajax', 'phule', 'phule pune', 'phule pune univers', 'physic', 'pig', 'pipe', 'pivot', 'pl', 'pl sql', 'place', 'plan', 'plan agil', 'plan agil model', 'plan monitor', 'plan project', 'plan schedul', 'plan test', 'plane', 'plane secur', 'plant', 'plaster', 'platform', 'play', 'player', 'plc', 'plc panel', 'plc panel monitor', 'plsql', 'plu', 'pm', 'pmo', 'pneumat', 'po', 'point', 'polic', 'polici', 'polici procedur', 'polytechn', 'portal', 'posit', 'posit attitud', 'posit softwar', 'posit softwar develop', 'possibl', 'possibl way', 'post', 'post graduat', 'post graduat diploma', 'postgresql', 'postman', 'potenti', 'power', 'power center', 'power plant', 'power point', 'powerpoint', 'pr', 'practic', 'pradesh', 'pre', 'pre fat', 'pre fat fat', 'predict', 'prepaid', 'prepaid card', 'prepar', 'prepar test', 'present', 'present layer', 'present layer html', 'pressur', 'prevent', 'prgx', 'prgx india', 'prgx india privat', 'price', 'primari', 'print', 'printer', 'prioriti', 'privat', 'privat limit', 'privileg', 'proactiv', 'problem', 'problem solv', 'procedur', 'process', 'process data', 'process develop', 'process flow', 'process identifi', 'process improv', 'process role', 'process role respons', 'procur', 'prod', 'produc', 'product', 'product develop', 'product environ', 'product project', 'product work', 'profession', 'profici', 'profil', 'profit', 'program', 'program languag', 'program languag python', 'programm', 'progress', 'progress report', 'project', 'project activ', 'project aim', 'project compani', 'project complet', 'project configur', 'project descript', 'project design', 'project detail', 'project detail project', 'project detail titl', 'project develop', 'project document', 'project ensur', 'project execut', 'project handl', 'project handl project', 'project includ', 'project involv', 'project manag', 'project name', 'project photoshop', 'project plan', 'project plan agil', 'project profil', 'project progress', 'project project', 'project project name', 'project review', 'project review meet', 'project schedul', 'project titl', 'project undertaken', 'project use', 'project work', 'promot', 'proof', 'proof concept', 'proper', 'properli', 'properti', 'propos', 'protect', 'protocol', 'prototyp', 'proven', 'provid', 'provid servic', 'provid solut', 'provid support', 'provid technic', 'proxi', 'public', 'public speak', 'pump', 'pune', 'pune descript', 'pune maharashtra', 'pune maharashtra pune', 'pune maharashtra savitribai', 'pune maharashtra univers', 'pune univers', 'pune univers januari', 'punjab', 'purchas', 'purchas order', 'purpos', 'purpos project', 'putti', 'pvt', 'pvt ltd', 'pvt ltd bangalor', 'pvt ltd descript', 'pvt ltd nagpur', 'pvt ltd pune', 'pvt ltdskill', 'pvt ltdskill detail', 'python', 'python exprienc', 'python exprienc less', 'python exprienc month', 'qa', 'qa qc', 'qatar', 'qc', 'qc civil', 'qtp', 'qualif', 'qualiti', 'qualiti check', 'quantiti', 'quarterli', 'queri', 'queri relat', 'question', 'quick', 'quick learner', 'quickli', 'quot', 'quotat', 'rac', 'rais', 'rajasthan', 'rang', 'rate', 'ration', 'raw', 'rd', 'rdbm', 'read', 'readi', 'real', 'real estat', 'real time', 'reason', 'receiv', 'recogn', 'recognit', 'recommend', 'reconcili', 'reconcili tool', 'record', 'recoveri', 'recruit', 'redhat', 'redhat linux', 'reduc', 'redund', 'refer', 'refresh', 'regard', 'region', 'registr', 'regress', 'regress test', 'regul', 'regular', 'regularli', 'relat', 'relat duti', 'relat duti respons', 'relat issu', 'relationship', 'relationship manag', 'relay', 'releas', 'relev', 'relianc', 'remedi', 'remot', 'remov', 'replic', 'report', 'report compani', 'report manag', 'report prepar', 'report use', 'report work', 'repositori', 'repres', 'request', 'requir', 'requir analysi', 'requir design', 'requir develop', 'requir document', 'requir gather', 'requir graphic', 'requir graphic project', 'requir set', 'requir work', 'research', 'research develop', 'residenti', 'resist', 'resolut', 'resolv', 'resolv issu', 'resourc', 'resourc manag', 'resourc util', 'respect', 'respond', 'respons', 'respons analyz', 'respons assign', 'respons creation', 'respons creation test', 'respons design', 'respons design develop', 'respons develop', 'respons includ', 'respons involv', 'respons manag', 'respons perform', 'respons perform relat', 'respons project', 'respons ui', 'respons ui entir', 'respons understand', 'respons understand requir', 'respons work', 'respons work develop', 'rest', 'rest api', 'restor', 'result', 'result area', 'retail', 'return', 'revenu', 'review', 'review meet', 'review meet telephon', 'review process', 'review test', 'revis', 'rfq', 'right', 'right share', 'right share drive', 'risk', 'risk issu', 'rm', 'rman', 'rman backup', 'road', 'robot', 'role', 'role civil', 'role develop', 'role develop descript', 'role involv', 'role java', 'role java develop', 'role respons', 'role respons design', 'role respons work', 'role sap', 'role sap bo', 'role softwar', 'role softwar test', 'root', 'root caus', 'round', 'rout', 'rout switch', 'router', 'router switch', 'routin', 'rule', 'run', 'safe', 'safeti', 'salari', 'sale', 'sale exprienc', 'sale exprienc month', 'sale manag', 'sale market', 'sale order', 'sale target', 'sale team', 'sap', 'sap abap', 'sap bo', 'sap bo develop', 'sap hana', 'satisfact', 'save', 'savitribai', 'savitribai phule', 'savitribai phule pune', 'sc', 'scada', 'scala', 'scale', 'scd', 'scenario', 'scenario test', 'scenario test case', 'schedul', 'schedul job', 'schema', 'schemat', 'school', 'school data', 'school data scienc', 'scienc', 'scienc engin', 'scienc mumbai', 'scienc mumbai maharashtra', 'scienc pune', 'scienc pune maharashtra', 'scikit', 'scope', 'scope project', 'scope work', 'screen', 'script', 'script autom', 'script databas', 'script databas use', 'script languag', 'script use', 'scrum', 'sdlc', 'sea', 'search', 'secondari', 'secondari school', 'sector', 'secur', 'secur exprienc', 'secur exprienc less', 'secur manag', 'secur violat', 'secur violat disk', 'see', 'segment', 'select', 'selenium', 'selenium web', 'selenium web driver', 'selenium webdriv', 'self', 'sell', 'send', 'senior', 'senior manag', 'sens', 'sent', 'sentiment', 'sentiment analysi', 'sept', 'septemb', 'seri', 'serv', 'server', 'server databas', 'server exprienc', 'server exprienc month', 'server instal', 'server oper', 'server oper system', 'server oracl', 'server role', 'server role develop', 'server secur', 'server side', 'server sql', 'server web', 'server window', 'server window server', 'servic', 'servic area', 'servic deliveri', 'servic deliveri manag', 'servic descript', 'servic descript project', 'servic provid', 'servic pvt', 'servic pvt ltd', 'servic request', 'servlet', 'servlet jsp', 'session', 'set', 'setup', 'sever', 'share', 'share drive', 'sharepoint', 'sheet', 'shell', 'shell script', 'shell script autom', 'shift', 'ship', 'ship databas', 'shipment', 'shop', 'show', 'side', 'side environ', 'side valid', 'side valid sr', 'sign', 'simpl', 'sinc', 'singl', 'site', 'site engin', 'six', 'size', 'size environ', 'size posit', 'size posit softwar', 'size role', 'skill', 'skill abil', 'skill detail', 'skill languag', 'skill program', 'skill program languag', 'skill set', 'skill team', 'skill web', 'sla', 'sld', 'slow', 'small', 'smart', 'smart contract', 'sme', 'smec', 'smec autom', 'smec autom pvt', 'smoke', 'smooth', 'social', 'social media', 'soft', 'softwar', 'softwar descript', 'softwar develop', 'softwar develop synopsi', 'softwar engin', 'softwar system', 'softwar system pvt', 'softwar test', 'softwar test engin', 'softwar tester', 'softwar tester respons', 'softwareskil', 'softwareskil detail', 'solapur', 'solar', 'solid', 'solut', 'solut descript', 'solut provid', 'solut pvt', 'solut pvt ltd', 'solut use', 'solv', 'solv skill', 'sop', 'sort', 'sound', 'sourc', 'sourc data', 'sourc like', 'sourc system', 'sp', 'spa', 'space', 'space etc', 'space manag', 'spark', 'spark scala', 'speak', 'spec', 'special', 'special design', 'specif', 'spoc', 'sport', 'spring', 'spring hibern', 'spring mvc', 'sql', 'sql databas', 'sql exprienc', 'sql exprienc month', 'sql oracl', 'sql queri', 'sql server', 'sql server exprienc', 'sql server instal', 'sql server oper', 'sql server role', 'sql server window', 'sql team', 'sql team size', 'sqlserver', 'sqoop', 'sr', 'sr document', 'sr document develop', 'sri', 'sri lanka', 'ssc', 'ssc maharashtra', 'ssr', 'st', 'staff', 'stage', 'stake', 'stake holder', 'stakehold', 'standard', 'standbi', 'standbi dr', 'start', 'startup', 'state', 'state board', 'statement', 'static', 'station', 'statist', 'statu', 'statutori', 'step', 'stipul', 'stipul time', 'stock', 'storag', 'store', 'stori', 'strateg', 'strategi', 'stream', 'streamlin', 'strength', 'strong', 'structur', 'student', 'studi', 'studio', 'studio asp', 'studio asp net', 'sub', 'subcontractor', 'subject', 'sublim', 'submiss', 'submit', 'submitt', 'success', 'success complet', 'suggest', 'suit', 'summari', 'summari report', 'sun', 'sun trust', 'sun trust bank', 'supervis', 'supervisor', 'suppli', 'suppli chain', 'suppli chain manag', 'supplier', 'support', 'support develop', 'sure', 'survey', 'svm', 'svn', 'switch', 'switchgear', 'synechron', 'synechron technolog', 'synopsi', 'system', 'system compani', 'system databas', 'system databas websit', 'system implement', 'system integr', 'system like', 'system linux', 'system marshal', 'system network', 'system network administr', 'system process', 'system provid', 'system pvt', 'system pvt ltd', 'system role', 'system technolog', 'system technolog use', 'system test', 'system use', 'system web', 'system window', 'system window xp', 'tabl', 'tableau', 'tablespac', 'tag', 'take', 'take care', 'taken', 'talend', 'talent', 'talli', 'tamil', 'tamil nadu', 'target', 'task', 'tat', 'tata', 'tata consult', 'tata consult servic', 'tax', 'tc', 'teacher', 'team', 'team build', 'team compani', 'team ensur', 'team handl', 'team identifi', 'team lead', 'team lead process', 'team leader', 'team member', 'team player', 'team respons', 'team size', 'team size environ', 'team size posit', 'team size role', 'team work', 'team workload', 'team workload workflow', 'tech', 'tech comput', 'tech mahindra', 'tech mahindra descript', 'tech mahindra pvt', 'tech pvt', 'tech pvt ltd', 'technic', 'technic environ', 'technic skill', 'technic skill program', 'technic specif', 'techniqu', 'techno', 'technolog', 'technolog asp', 'technolog asp net', 'technolog descript', 'technolog html', 'technolog html css', 'technolog januari', 'technolog java', 'technolog like', 'technolog mumbai', 'technolog mumbai maharashtra', 'technolog pune', 'technolog pvt', 'technolog pvt ltd', 'technolog servic', 'technolog solut', 'technolog use', 'technolog use frontend', 'technolog use html', 'technologiesskil', 'technologiesskil detail', 'telangana', 'telecom', 'telecommun', 'telephon', 'telephon client', 'temperatur', 'tender', 'tensor', 'tensor flow', 'tensorflow', 'tenur', 'teradata', 'term', 'termin', 'test', 'test activ', 'test autom', 'test autom framework', 'test bed', 'test black', 'test black box', 'test case', 'test case base', 'test case execut', 'test data', 'test driven', 'test driven develop', 'test durat', 'test engin', 'test exprienc', 'test exprienc month', 'test manag', 'test manual', 'test plan', 'test plan test', 'test regress', 'test regress test', 'test report', 'test result', 'test scenario', 'test scenario test', 'test script', 'test script use', 'test system', 'test system test', 'test type', 'tester', 'tester respons', 'testng', 'text', 'th', 'thai', 'therapi', 'think', 'three', 'throughout', 'ticket', 'ticket tool', 'tie', 'tier', 'tieto', 'till', 'till date', 'time', 'time compani', 'time deliveri', 'time frame', 'time frame made', 'time manag', 'timelin', 'titl', 'tomcat', 'tool', 'tool eclips', 'tool like', 'tool technolog', 'top', 'topic', 'topic model', 'total', 'tour', 'toward', 'tower', 'trace', 'traceabl', 'traceabl matrix', 'track', 'tracker', 'trade', 'train', 'train complet', 'train complet intern', 'train program', 'trainer', 'transact', 'transact monitor', 'transfer', 'transform', 'transform load', 'transit', 'translat', 'transmitt', 'transport', 'travel', 'tree', 'trend', 'trial', 'troubleshoot', 'troubleshoot issu', 'trust', 'trust bank', 'trust system', 'tune', 'turn', 'two', 'type', 'type test', 'uat', 'ubuntu', 'uft', 'uh', 'ui', 'uk', 'uml', 'understand', 'understand busi', 'understand busi requir', 'understand requir', 'undertak', 'undertaken', 'unit', 'unit test', 'univers', 'univers januari', 'univers januari diploma', 'univers june', 'univers mumbai', 'univers pune', 'unix', 'up', 'updat', 'upgrad', 'upgrad backup', 'upgrad backup cisco', 'upgrad troubleshoot', 'urban', 'us', 'us base', 'usa', 'usa environ', 'usag', 'use', 'use case', 'use data', 'use differ', 'use frontend', 'use html', 'use html css', 'use informatica', 'use java', 'use java servlet', 'use machin', 'use machin learn', 'use mvc', 'use python', 'use rman', 'use selenium', 'use selenium web', 'use sql', 'use sql team', 'use sqoop', 'use standard', 'user', 'user accept', 'user account', 'user friendli', 'user manag', 'user queri', 'user requir', 'util', 'uttar', 'uttar pradesh', 'valid', 'valu', 'valv', 'valv actuat', 'varianc', 'variou', 'variou applic', 'variou data', 'variou modul', 'variou report', 'variou sourc', 'variou sourc system', 'vb', 'vehicl', 'vendor', 'vendor develop', 'ventur', 'ventur privat', 'verbal', 'verif', 'verifi', 'version', 'vfd', 'via', 'video', 'view', 'villa', 'virtual', 'visio', 'vision', 'visit', 'vista', 'visual', 'visual studio', 'visual studio asp', 'vlan', 'volum', 'vpn', 'wallet', 'wareh', 'warehous', 'wast', 'watch', 'water', 'wave', 'way', 'wcf', 'web', 'web api', 'web applic', 'web applic use', 'web base', 'web driver', 'web server', 'web servic', 'web technolog', 'webdriv', 'webi', 'webi report', 'weblog', 'websit', 'websit design', 'websit necessari', 'websit necessari project', 'websit project', 'week', 'weekli', 'weekli monthli', 'weekli project', 'weekli report', 'well', 'wide', 'win', 'wind', 'window', 'window linux', 'window server', 'window xp', 'window xp vista', 'window xp window', 'wipro', 'wipro technolog', 'wipro technolog descript', 'wire', 'wire schemat', 'within', 'word', 'word excel', 'work', 'work close', 'work develop', 'work experi', 'work java', 'work java develop', 'work knowledg', 'work order', 'work process', 'work team', 'worker', 'workflow', 'workshop', 'world', 'worldwid', 'would', 'write', 'write hive', 'write hive queri', 'write test', 'write test case', 'written', 'wrote', 'www', 'xml', 'xp', 'xp vista', 'xp window', 'year', 'year experi', 'year month', 'year month exprienc', 'year month java', 'year month machin', 'year month python', 'year monthscompani', 'year monthscompani detail', 'year project', 'year work', 'york', 'zone']\n"
     ]
    }
   ],
   "metadata": {}
  },
  {
   "cell_type": "code",
   "execution_count": 15,
   "source": [
    "data_sample_1 = df[:2]\r\n",
    "tfidf1 = TfidfVectorizer()\r\n",
    "\r\n",
    "data_2_tfidf = tfidf1.fit_transform(data_sample_1['Resume'])"
   ],
   "outputs": [],
   "metadata": {}
  },
  {
   "cell_type": "code",
   "execution_count": 16,
   "source": [
    "data_2_tfidf.shape"
   ],
   "outputs": [
    {
     "output_type": "execute_result",
     "data": {
      "text/plain": [
       "(2, 346)"
      ]
     },
     "metadata": {},
     "execution_count": 16
    }
   ],
   "metadata": {}
  },
  {
   "cell_type": "code",
   "execution_count": 17,
   "source": [
    "df_tfidf = pd.DataFrame(data_2_tfidf.toarray(),columns =tfidf1.get_feature_names())\r\n",
    "df_tfidf.head()"
   ],
   "outputs": [
    {
     "output_type": "execute_result",
     "data": {
      "text/plain": [
       "    acceler   account    achiev    across    action   address    aditya  \\\n",
       "0  0.026709  0.026709  0.000000  0.080128  0.026709  0.026709  0.000000   \n",
       "1  0.000000  0.000000  0.069665  0.000000  0.000000  0.000000  0.069665   \n",
       "\n",
       "     advanc      also   analysi  ...       vec    vehicl       via    vision  \\\n",
       "0  0.026709  0.026709  0.213675  ...  0.053419  0.026709  0.026709  0.026709   \n",
       "1  0.000000  0.000000  0.000000  ...  0.000000  0.000000  0.000000  0.000000   \n",
       "\n",
       "     visual    winter      word      work      year     young  \n",
       "0  0.053419  0.000000  0.160256  0.019004  0.019004  0.053419  \n",
       "1  0.000000  0.069665  0.000000  0.049567  0.297403  0.000000  \n",
       "\n",
       "[2 rows x 346 columns]"
      ],
      "text/html": [
       "<div>\n",
       "<style scoped>\n",
       "    .dataframe tbody tr th:only-of-type {\n",
       "        vertical-align: middle;\n",
       "    }\n",
       "\n",
       "    .dataframe tbody tr th {\n",
       "        vertical-align: top;\n",
       "    }\n",
       "\n",
       "    .dataframe thead th {\n",
       "        text-align: right;\n",
       "    }\n",
       "</style>\n",
       "<table border=\"1\" class=\"dataframe\">\n",
       "  <thead>\n",
       "    <tr style=\"text-align: right;\">\n",
       "      <th></th>\n",
       "      <th>acceler</th>\n",
       "      <th>account</th>\n",
       "      <th>achiev</th>\n",
       "      <th>across</th>\n",
       "      <th>action</th>\n",
       "      <th>address</th>\n",
       "      <th>aditya</th>\n",
       "      <th>advanc</th>\n",
       "      <th>also</th>\n",
       "      <th>analysi</th>\n",
       "      <th>...</th>\n",
       "      <th>vec</th>\n",
       "      <th>vehicl</th>\n",
       "      <th>via</th>\n",
       "      <th>vision</th>\n",
       "      <th>visual</th>\n",
       "      <th>winter</th>\n",
       "      <th>word</th>\n",
       "      <th>work</th>\n",
       "      <th>year</th>\n",
       "      <th>young</th>\n",
       "    </tr>\n",
       "  </thead>\n",
       "  <tbody>\n",
       "    <tr>\n",
       "      <th>0</th>\n",
       "      <td>0.026709</td>\n",
       "      <td>0.026709</td>\n",
       "      <td>0.000000</td>\n",
       "      <td>0.080128</td>\n",
       "      <td>0.026709</td>\n",
       "      <td>0.026709</td>\n",
       "      <td>0.000000</td>\n",
       "      <td>0.026709</td>\n",
       "      <td>0.026709</td>\n",
       "      <td>0.213675</td>\n",
       "      <td>...</td>\n",
       "      <td>0.053419</td>\n",
       "      <td>0.026709</td>\n",
       "      <td>0.026709</td>\n",
       "      <td>0.026709</td>\n",
       "      <td>0.053419</td>\n",
       "      <td>0.000000</td>\n",
       "      <td>0.160256</td>\n",
       "      <td>0.019004</td>\n",
       "      <td>0.019004</td>\n",
       "      <td>0.053419</td>\n",
       "    </tr>\n",
       "    <tr>\n",
       "      <th>1</th>\n",
       "      <td>0.000000</td>\n",
       "      <td>0.000000</td>\n",
       "      <td>0.069665</td>\n",
       "      <td>0.000000</td>\n",
       "      <td>0.000000</td>\n",
       "      <td>0.000000</td>\n",
       "      <td>0.069665</td>\n",
       "      <td>0.000000</td>\n",
       "      <td>0.000000</td>\n",
       "      <td>0.000000</td>\n",
       "      <td>...</td>\n",
       "      <td>0.000000</td>\n",
       "      <td>0.000000</td>\n",
       "      <td>0.000000</td>\n",
       "      <td>0.000000</td>\n",
       "      <td>0.000000</td>\n",
       "      <td>0.069665</td>\n",
       "      <td>0.000000</td>\n",
       "      <td>0.049567</td>\n",
       "      <td>0.297403</td>\n",
       "      <td>0.000000</td>\n",
       "    </tr>\n",
       "  </tbody>\n",
       "</table>\n",
       "<p>2 rows × 346 columns</p>\n",
       "</div>"
      ]
     },
     "metadata": {},
     "execution_count": 17
    }
   ],
   "metadata": {}
  },
  {
   "cell_type": "code",
   "execution_count": 28,
   "source": [
    "from sklearn.model_selection import train_test_split\r\n",
    "X_train, X_val, y_train, y_val = train_test_split(X, y, test_size = 0.20)"
   ],
   "outputs": [],
   "metadata": {}
  },
  {
   "cell_type": "code",
   "execution_count": 29,
   "source": [
    "print('X_train shape :',X_train.shape)\r\n",
    "print('y_train shape :',y_train.shape)\r\n",
    "print('X_val shape :',X_val.shape)\r\n",
    "print('y_val shape :',y_val.shape)"
   ],
   "outputs": [
    {
     "output_type": "stream",
     "name": "stdout",
     "text": [
      "X_train shape : (135, 3000)\n",
      "y_train shape : (135,)\n",
      "X_val shape : (34, 3000)\n",
      "y_val shape : (34,)\n"
     ]
    }
   ],
   "metadata": {}
  },
  {
   "cell_type": "markdown",
   "source": [
    "# Logistic regression"
   ],
   "metadata": {}
  },
  {
   "cell_type": "code",
   "execution_count": 30,
   "source": [
    "from sklearn.linear_model import LogisticRegression\r\n",
    "\r\n",
    "log = LogisticRegression()\r\n",
    "log.fit(X_train,y_train)\r\n",
    "y_pred_log = log.predict(X_val)"
   ],
   "outputs": [],
   "metadata": {}
  },
  {
   "cell_type": "code",
   "execution_count": 31,
   "source": [
    "print('Accuracy of Logistic Classifier: {:.2f}'.format(accuracy_score(y_val,y_pred_log)))"
   ],
   "outputs": [
    {
     "output_type": "stream",
     "name": "stdout",
     "text": [
      "Accuracy of SVC Classifier: 0.62\n"
     ]
    }
   ],
   "metadata": {}
  },
  {
   "cell_type": "markdown",
   "source": [
    "### Grid search"
   ],
   "metadata": {}
  },
  {
   "cell_type": "code",
   "execution_count": 32,
   "source": [
    "from sklearn.model_selection import GridSearchCV\r\n",
    "from sklearn.metrics import accuracy_score"
   ],
   "outputs": [],
   "metadata": {}
  },
  {
   "cell_type": "code",
   "execution_count": 33,
   "source": [
    "log = LogisticRegression()\r\n",
    "grid_values = {'penalty': ['l1', 'l2'],'C':[0.001,0.01,1,5,10,25]}\r\n",
    "grid_log_acc = GridSearchCV(log, param_grid = grid_values)\r\n",
    "grid_log_acc.fit(X_train, y_train)"
   ],
   "outputs": [
    {
     "output_type": "execute_result",
     "data": {
      "text/plain": [
       "GridSearchCV(cv=None, error_score=nan,\n",
       "             estimator=LogisticRegression(C=1.0, class_weight=None, dual=False,\n",
       "                                          fit_intercept=True,\n",
       "                                          intercept_scaling=1, l1_ratio=None,\n",
       "                                          max_iter=100, multi_class='auto',\n",
       "                                          n_jobs=None, penalty='l2',\n",
       "                                          random_state=None, solver='lbfgs',\n",
       "                                          tol=0.0001, verbose=0,\n",
       "                                          warm_start=False),\n",
       "             iid='deprecated', n_jobs=None,\n",
       "             param_grid={'C': [0.001, 0.01, 1, 5, 10, 25],\n",
       "                         'penalty': ['l1', 'l2']},\n",
       "             pre_dispatch='2*n_jobs', refit=True, return_train_score=False,\n",
       "             scoring=None, verbose=0)"
      ]
     },
     "metadata": {},
     "execution_count": 33
    }
   ],
   "metadata": {}
  },
  {
   "cell_type": "code",
   "execution_count": 34,
   "source": [
    "#Predict values based on new parameters\r\n",
    "y_pred_log_acc = grid_log_acc.predict(X_val)\r\n",
    "\r\n",
    "# New Model Evaluation metrics \r\n",
    "print('Accuracy Score : ' , accuracy_score(y_val,y_pred_log_acc))"
   ],
   "outputs": [
    {
     "output_type": "stream",
     "name": "stdout",
     "text": [
      "Accuracy Score :  0.8235294117647058\n"
     ]
    }
   ],
   "metadata": {}
  },
  {
   "cell_type": "code",
   "execution_count": 35,
   "source": [
    "df_log = pd.DataFrame({'Actual': y_val, 'Predicted': y_pred_log_acc})"
   ],
   "outputs": [],
   "metadata": {}
  },
  {
   "cell_type": "code",
   "execution_count": 36,
   "source": [
    "df_log.plot(kind = 'bar',figsize=(15,8))\r\n",
    "plt.show()"
   ],
   "outputs": [
    {
     "output_type": "display_data",
     "data": {
      "text/plain": [
       "<Figure size 1080x576 with 1 Axes>"
      ],
      "image/png": "[encoded data removed]"
     },
     "metadata": {
      "needs_background": "light"
     }
    }
   ],
   "metadata": {}
  },
  {
   "cell_type": "markdown",
   "source": [
    "# SVC"
   ],
   "metadata": {}
  },
  {
   "cell_type": "code",
   "execution_count": 37,
   "source": [
    "classifier = SVC()\r\n",
    "classifier.fit(X_train, y_train)"
   ],
   "outputs": [
    {
     "output_type": "execute_result",
     "data": {
      "text/plain": [
       "SVC(C=1.0, break_ties=False, cache_size=200, class_weight=None, coef0=0.0,\n",
       "    decision_function_shape='ovr', degree=3, gamma='scale', kernel='rbf',\n",
       "    max_iter=-1, probability=False, random_state=None, shrinking=True,\n",
       "    tol=0.001, verbose=False)"
      ]
     },
     "metadata": {},
     "execution_count": 37
    }
   ],
   "metadata": {}
  },
  {
   "cell_type": "code",
   "execution_count": 38,
   "source": [
    "y_pred_svc = classifier.predict(X_val)"
   ],
   "outputs": [],
   "metadata": {}
  },
  {
   "cell_type": "code",
   "execution_count": 39,
   "source": [
    "print('Accuracy of SVC Classifier: {:.2f}'.format(accuracy_score(y_val,y_pred_svc)))"
   ],
   "outputs": [
    {
     "output_type": "stream",
     "name": "stdout",
     "text": [
      "Accuracy of SVC Classifier: 0.53\n"
     ]
    }
   ],
   "metadata": {}
  },
  {
   "cell_type": "markdown",
   "source": [
    "### Grid search "
   ],
   "metadata": {}
  },
  {
   "cell_type": "code",
   "execution_count": 40,
   "source": [
    "param_grid = {'C':[0.1,1,10,100,1000],'gamma':[1,0.1,0.01,0.001,0.0001]}"
   ],
   "outputs": [],
   "metadata": {}
  },
  {
   "cell_type": "code",
   "execution_count": 52,
   "source": [
    "grid_svc_acc = GridSearchCV(classifier, param_grid)\r\n",
    "grid_svc_acc.fit(X_train, y_train)\r\n",
    "\r\n",
    "#Predict values based on new parameters\r\n",
    "y_pred_svc_acc = grid_svc_acc.predict(X_val)\r\n",
    "\r\n",
    "# New Model Evaluation metrics \r\n",
    "print('Accuracy Score : ' , accuracy_score(y_val,y_pred_svc_acc))\r\n"
   ],
   "outputs": [
    {
     "output_type": "stream",
     "name": "stdout",
     "text": [
      "Accuracy Score :  0.7941176470588235\n"
     ]
    }
   ],
   "metadata": {}
  },
  {
   "cell_type": "code",
   "execution_count": 51,
   "source": [
    "df_svc = pd.DataFrame({'Actual': y_val, 'Predicted': y_pred_svc_acc})"
   ],
   "outputs": [],
   "metadata": {}
  },
  {
   "cell_type": "code",
   "execution_count": 43,
   "source": [
    "df_svc.plot(kind = 'bar',figsize=(15,8))\r\n",
    "plt.show()"
   ],
   "outputs": [
    {
     "output_type": "display_data",
     "data": {
      "text/plain": [
       "<Figure size 1080x576 with 1 Axes>"
      ],
      "image/png": "[encoded data removed]"
     },
     "metadata": {
      "needs_background": "light"
     }
    }
   ],
   "metadata": {}
  },
  {
   "cell_type": "markdown",
   "source": [
    "# Random forest"
   ],
   "metadata": {}
  },
  {
   "cell_type": "code",
   "execution_count": 44,
   "source": [
    "from sklearn.ensemble import RandomForestClassifier"
   ],
   "outputs": [],
   "metadata": {}
  },
  {
   "cell_type": "code",
   "execution_count": 45,
   "source": [
    "clf_rf=RandomForestClassifier(n_estimators=200)\r\n",
    "\r\n",
    "clf_rf.fit(X_train,y_train)"
   ],
   "outputs": [
    {
     "output_type": "execute_result",
     "data": {
      "text/plain": [
       "RandomForestClassifier(bootstrap=True, ccp_alpha=0.0, class_weight=None,\n",
       "                       criterion='gini', max_depth=None, max_features='auto',\n",
       "                       max_leaf_nodes=None, max_samples=None,\n",
       "                       min_impurity_decrease=0.0, min_impurity_split=None,\n",
       "                       min_samples_leaf=1, min_samples_split=2,\n",
       "                       min_weight_fraction_leaf=0.0, n_estimators=200,\n",
       "                       n_jobs=None, oob_score=False, random_state=None,\n",
       "                       verbose=0, warm_start=False)"
      ]
     },
     "metadata": {},
     "execution_count": 45
    }
   ],
   "metadata": {}
  },
  {
   "cell_type": "code",
   "execution_count": 46,
   "source": [
    "y_pred_rf=clf_rf.predict(X_val)"
   ],
   "outputs": [],
   "metadata": {}
  },
  {
   "cell_type": "code",
   "execution_count": 47,
   "source": [
    "print('Accuracy of SVC Classifier: {:.2f}'.format(accuracy_score(y_val,y_pred_rf)))"
   ],
   "outputs": [
    {
     "output_type": "stream",
     "name": "stdout",
     "text": [
      "Accuracy of SVC Classifier: 0.74\n"
     ]
    }
   ],
   "metadata": {}
  },
  {
   "cell_type": "markdown",
   "source": [
    "### Grid search"
   ],
   "metadata": {}
  },
  {
   "cell_type": "code",
   "execution_count": 48,
   "source": [
    "param_grid_rf = {\"n_estimators\": np.arange(2, 300, 2)}"
   ],
   "outputs": [],
   "metadata": {}
  },
  {
   "cell_type": "code",
   "execution_count": 53,
   "source": [
    "grid_rf_acc = GridSearchCV(clf_rf, param_grid_rf)\r\n",
    "grid_rf_acc.fit(X_train, y_train)\r\n",
    "\r\n",
    "#Predict values based on new parameters\r\n",
    "y_pred_rf_acc = grid_rf_acc.predict(X_val)\r\n",
    "\r\n",
    "# New Model Evaluation metrics \r\n",
    "print('Accuracy Score : ', accuracy_score(y_val,y_pred_rf_acc))"
   ],
   "outputs": [
    {
     "output_type": "stream",
     "name": "stdout",
     "text": [
      "Accuracy Score :  0.7647058823529411\n"
     ]
    }
   ],
   "metadata": {}
  },
  {
   "cell_type": "code",
   "execution_count": 54,
   "source": [
    "df_rf = pd.DataFrame({'Actual': y_val, 'Predicted': y_pred_rf_acc})"
   ],
   "outputs": [],
   "metadata": {}
  },
  {
   "cell_type": "code",
   "execution_count": 55,
   "source": [
    "df_rf.plot(kind = 'bar',figsize=(15,8))\r\n",
    "plt.show()"
   ],
   "outputs": [
    {
     "output_type": "display_data",
     "data": {
      "text/plain": [
       "<Figure size 1080x576 with 1 Axes>"
      ],
      "image/png": "[encoded data removed]"
     },
     "metadata": {
      "needs_background": "light"
     }
    }
   ],
   "metadata": {}
  },
  {
   "cell_type": "code",
   "execution_count": 56,
   "source": [
    "y_val_inverse = le.inverse_transform(y_val)"
   ],
   "outputs": [],
   "metadata": {}
  },
  {
   "cell_type": "code",
   "execution_count": 57,
   "source": [
    "predicted_inverse = le.inverse_transform(y_pred_log_acc)"
   ],
   "outputs": [],
   "metadata": {}
  },
  {
   "cell_type": "code",
   "execution_count": 64,
   "source": [
    "df_1 = pd.DataFrame({'Actual': y_val_inverse, 'Predicted': predicted_inverse})\r\n",
    "df_1[1:7]"
   ],
   "outputs": [
    {
     "output_type": "execute_result",
     "data": {
      "text/plain": [
       "               Actual           Predicted\n",
       "1                  HR                  HR\n",
       "2  Automation Testing  Automation Testing\n",
       "3            Database            Database\n",
       "4            Advocate            Advocate\n",
       "5      Java Developer      Java Developer\n",
       "6        Data Science        Data Science"
      ],
      "text/html": [
       "<div>\n",
       "<style scoped>\n",
       "    .dataframe tbody tr th:only-of-type {\n",
       "        vertical-align: middle;\n",
       "    }\n",
       "\n",
       "    .dataframe tbody tr th {\n",
       "        vertical-align: top;\n",
       "    }\n",
       "\n",
       "    .dataframe thead th {\n",
       "        text-align: right;\n",
       "    }\n",
       "</style>\n",
       "<table border=\"1\" class=\"dataframe\">\n",
       "  <thead>\n",
       "    <tr style=\"text-align: right;\">\n",
       "      <th></th>\n",
       "      <th>Actual</th>\n",
       "      <th>Predicted</th>\n",
       "    </tr>\n",
       "  </thead>\n",
       "  <tbody>\n",
       "    <tr>\n",
       "      <th>1</th>\n",
       "      <td>HR</td>\n",
       "      <td>HR</td>\n",
       "    </tr>\n",
       "    <tr>\n",
       "      <th>2</th>\n",
       "      <td>Automation Testing</td>\n",
       "      <td>Automation Testing</td>\n",
       "    </tr>\n",
       "    <tr>\n",
       "      <th>3</th>\n",
       "      <td>Database</td>\n",
       "      <td>Database</td>\n",
       "    </tr>\n",
       "    <tr>\n",
       "      <th>4</th>\n",
       "      <td>Advocate</td>\n",
       "      <td>Advocate</td>\n",
       "    </tr>\n",
       "    <tr>\n",
       "      <th>5</th>\n",
       "      <td>Java Developer</td>\n",
       "      <td>Java Developer</td>\n",
       "    </tr>\n",
       "    <tr>\n",
       "      <th>6</th>\n",
       "      <td>Data Science</td>\n",
       "      <td>Data Science</td>\n",
       "    </tr>\n",
       "  </tbody>\n",
       "</table>\n",
       "</div>"
      ]
     },
     "metadata": {},
     "execution_count": 64
    }
   ],
   "metadata": {}
  },
  {
   "cell_type": "markdown",
   "source": [
    "## Single prediction"
   ],
   "metadata": {}
  },
  {
   "cell_type": "code",
   "execution_count": 75,
   "source": [
    "text = \"KEY SKILLS: Ã¢Â€Â¢ Computerized accounting with tally Ã¢Â€Â¢ Sincere & hard working Ã¢Â€Â¢ Management accounting & income tax Ã¢Â€Â¢ Good communication & leadership Ã¢Â€Â¢ Two and four wheeler driving license Ã¢Â€Â¢ Internet & Ecommerce management COMPUTER SKILLS: Ã¢Â€Â¢ C Language Ã¢Â€Â¢ Web programing Ã¢Â€Â¢ Tally Ã¢Â€Â¢ Dbms Education Details June 2017 to June 2019 Mba Finance/hr India Mlrit June 2014 to June 2017 Bcom Computer Hyderabad, Telangana Osmania university June 2012 to April 2014 Inter MEC India SrimedhavHrNaniSkill Details accounting- Exprience - 6 months DATABASE MANAGEMENT SYSTEM- Exprience - 6 months Dbms- Exprience - 6 months Management accounting- Exprience - 6 months Ecommerce- Exprience - 6 monthsCompany Details company - Valuelabs description - They will give the RRF form the required DLT then the hand over to RLT then scrum master will take the form from the RLT then scrum master will give the forms to trainee which we can work on the requirement till the candidate receive the offer from the company\""
   ],
   "outputs": [],
   "metadata": {}
  },
  {
   "cell_type": "code",
   "execution_count": 81,
   "source": [
    "text = get_clean(text)\r\n",
    "print(text)"
   ],
   "outputs": [
    {
     "output_type": "stream",
     "name": "stdout",
     "text": [
      "proper hr manag requir orderli approach abil organ file manag other time well maintain high level person effici necessari skill success hr manag\n"
     ]
    }
   ],
   "metadata": {}
  },
  {
   "cell_type": "code",
   "execution_count": 82,
   "source": [
    "vec = tfidf.transform([text])"
   ],
   "outputs": [],
   "metadata": {}
  },
  {
   "cell_type": "code",
   "execution_count": 83,
   "source": [
    "predict = grid_log_acc.predict(vec)\r\n",
    "predict"
   ],
   "outputs": [
    {
     "output_type": "execute_result",
     "data": {
      "text/plain": [
       "array([12])"
      ]
     },
     "metadata": {},
     "execution_count": 83
    }
   ],
   "metadata": {}
  },
  {
   "cell_type": "code",
   "execution_count": 84,
   "source": [
    "y_pred = le.inverse_transform(predict)\r\n",
    "y_pred"
   ],
   "outputs": [
    {
     "output_type": "execute_result",
     "data": {
      "text/plain": [
       "array(['HR'], dtype=object)"
      ]
     },
     "metadata": {},
     "execution_count": 84
    }
   ],
   "metadata": {}
  },
  {
   "cell_type": "markdown",
   "source": [
    "### Another example"
   ],
   "metadata": {}
  },
  {
   "cell_type": "code",
   "execution_count": 85,
   "source": [
    "text_ds = \"Machine learning , Deep learning ,Python, Statistics\" "
   ],
   "outputs": [],
   "metadata": {}
  },
  {
   "cell_type": "code",
   "execution_count": 86,
   "source": [
    "text_ds = get_clean(text_ds)\r\n",
    "print(text_ds)"
   ],
   "outputs": [
    {
     "output_type": "stream",
     "name": "stdout",
     "text": [
      "machin learn deep learn python statist\n"
     ]
    }
   ],
   "metadata": {}
  },
  {
   "cell_type": "code",
   "execution_count": 87,
   "source": [
    "vec = tfidf.transform([text_ds])"
   ],
   "outputs": [],
   "metadata": {}
  },
  {
   "cell_type": "code",
   "execution_count": 88,
   "source": [
    "predict = grid_log_acc.predict(vec)\r\n",
    "predict"
   ],
   "outputs": [
    {
     "output_type": "execute_result",
     "data": {
      "text/plain": [
       "array([6])"
      ]
     },
     "metadata": {},
     "execution_count": 88
    }
   ],
   "metadata": {}
  },
  {
   "cell_type": "code",
   "execution_count": 89,
   "source": [
    "y_pred = le.inverse_transform(predict)\r\n",
    "y_pred"
   ],
   "outputs": [
    {
     "output_type": "execute_result",
     "data": {
      "text/plain": [
       "array(['Data Science'], dtype=object)"
      ]
     },
     "metadata": {},
     "execution_count": 89
    }
   ],
   "metadata": {}
  },
  {
   "cell_type": "code",
   "execution_count": null,
   "source": [],
   "outputs": [],
   "metadata": {}
  }
 ],
 "metadata": {
  "kernelspec": {
   "display_name": "Python 3",
   "language": "python",
   "name": "python3"
  },
  "language_info": {
   "codemirror_mode": {
    "name": "ipython",
    "version": 3
   },
   "file_extension": ".py",
   "mimetype": "text/x-python",
   "name": "python",
   "nbconvert_exporter": "python",
   "pygments_lexer": "ipython3",
   "version": "3.6.10"
  }
 },
 "nbformat": 4,
 "nbformat_minor": 4
}